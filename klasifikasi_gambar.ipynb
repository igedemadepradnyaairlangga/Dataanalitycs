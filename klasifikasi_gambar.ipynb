{
  "nbformat": 4,
  "nbformat_minor": 0,
  "metadata": {
    "colab": {
      "provenance": [],
      "authorship_tag": "ABX9TyMA90NPRE8V4u97CRdw/jCu",
      "include_colab_link": true
    },
    "kernelspec": {
      "name": "python3",
      "display_name": "Python 3"
    },
    "language_info": {
      "name": "python"
    }
  },
  "cells": [
    {
      "cell_type": "markdown",
      "metadata": {
        "id": "view-in-github",
        "colab_type": "text"
      },
      "source": [
        "<a href=\"https://colab.research.google.com/github/igedemadepradnyaairlangga/Dataanalitycs/blob/master/klasifikasi_gambar.ipynb\" target=\"_parent\"><img src=\"https://colab.research.google.com/assets/colab-badge.svg\" alt=\"Open In Colab\"/></a>"
      ]
    },
    {
      "cell_type": "markdown",
      "source": [
        "Menghubungkan dataset ke drive"
      ],
      "metadata": {
        "id": "poE8nnPpVgIi"
      }
    },
    {
      "cell_type": "code",
      "source": [
        "from google.colab import drive\n",
        "drive.mount('/content/gdrive')"
      ],
      "metadata": {
        "colab": {
          "base_uri": "https://localhost:8080/"
        },
        "id": "j2R1L7EgVlvP",
        "outputId": "59400b6b-dcc6-485d-be93-cf49e438bcec"
      },
      "execution_count": 42,
      "outputs": [
        {
          "output_type": "stream",
          "name": "stdout",
          "text": [
            "Drive already mounted at /content/gdrive; to attempt to forcibly remount, call drive.mount(\"/content/gdrive\", force_remount=True).\n"
          ]
        }
      ]
    },
    {
      "cell_type": "code",
      "source": [
        "import os\n",
        "os.environ['KAGGLE_CONFIG_DIR'] = \"/content/gdrive/My Drive/Kaggle\"\n",
        "# /content/gdrive/My Drive/Kaggle is the path where kaggle.json is present in the Google Drive"
      ],
      "metadata": {
        "id": "oL-qtMGlVod_"
      },
      "execution_count": 43,
      "outputs": []
    },
    {
      "cell_type": "code",
      "source": [
        "#changing the working directory\n",
        "%cd /content/gdrive/My Drive/Kaggle\n",
        "#Check the present working directory using pwd command"
      ],
      "metadata": {
        "colab": {
          "base_uri": "https://localhost:8080/"
        },
        "id": "idLHTe85VwHd",
        "outputId": "71aa9f24-5e40-40ab-cbc4-a4f027cd5f83"
      },
      "execution_count": 44,
      "outputs": [
        {
          "output_type": "stream",
          "name": "stdout",
          "text": [
            "/content/gdrive/My Drive/Kaggle\n"
          ]
        }
      ]
    },
    {
      "cell_type": "code",
      "source": [
        "!ls"
      ],
      "metadata": {
        "colab": {
          "base_uri": "https://localhost:8080/"
        },
        "id": "UY29bG-dV8oL",
        "outputId": "e5038a75-d208-49e3-ac3f-505a7bdf95fe"
      },
      "execution_count": 8,
      "outputs": [
        {
          "output_type": "stream",
          "name": "stdout",
          "text": [
            " amazon_prime_titles.csv\t kaggle.json\n",
            " combined_dataset.csv\t\t Mall_Customers.csv\n",
            " day.csv\t\t\t rps-cv-images\n",
            "'e-shop clothing 2008.csv'\t'Salinan amazon_prime_titles.csv'\n",
            "'e-shop clothing 2008.csv.zip'\t udemy_output_All_Finance__Accounting_p1_p626.csv\n",
            " hour.csv\n"
          ]
        }
      ]
    },
    {
      "cell_type": "markdown",
      "source": [
        "libary"
      ],
      "metadata": {
        "id": "mrctUxmXYRNC"
      }
    },
    {
      "cell_type": "code",
      "source": [
        "import tensorflow as tf\n",
        "from tensorflow.keras.preprocessing.image import ImageDataGenerator\n",
        "from tensorflow.keras.models import Sequential\n",
        "from tensorflow.keras.layers import Conv2D, MaxPooling2D\n",
        "from tensorflow.keras.layers import Activation, Dropout, Flatten, Dense\n",
        "from tensorflow.keras.optimizers import Adam\n",
        "import numpy as np\n",
        "from sklearn.model_selection import train_test_split\n",
        "from tensorflow.keras.preprocessing import image\n",
        "import cv2\n",
        "from google.colab import files\n",
        "from ipywidgets import FileUpload\n",
        "import io\n",
        "from PIL import Image"
      ],
      "metadata": {
        "id": "GT21baeJYSkM"
      },
      "execution_count": 57,
      "outputs": []
    },
    {
      "cell_type": "markdown",
      "source": [
        "path direktori ke dataset"
      ],
      "metadata": {
        "id": "I8Hd30ESYYZp"
      }
    },
    {
      "cell_type": "code",
      "source": [
        "# Path ke direktori dataset\n",
        "dataset_dir = '/content/gdrive/My Drive/Kaggle/rps-cv-images'\n",
        "train_data_dir = os.path.join(dataset_dir, 'train')\n",
        "validation_data_dir = os.path.join(dataset_dir, 'validation')"
      ],
      "metadata": {
        "id": "wDY0JG2SYX2I"
      },
      "execution_count": 48,
      "outputs": []
    },
    {
      "cell_type": "markdown",
      "source": [
        "parameter dan inisiasi model"
      ],
      "metadata": {
        "id": "Hp1BYMA1YuJZ"
      }
    },
    {
      "cell_type": "code",
      "source": [
        "# Parameter-model\n",
        "input_shape = (150, 150, 3)\n",
        "num_classes = 3\n",
        "\n",
        "# Inisialisasi model sequential\n",
        "model = Sequential()\n",
        "model.add(Conv2D(32, (3, 3), padding='same', input_shape=input_shape))\n",
        "model.add(Activation('relu'))\n",
        "model.add(MaxPooling2D(pool_size=(2, 2)))\n",
        "model.add(Conv2D(32, (3, 3), padding='same'))\n",
        "model.add(Activation('relu'))\n",
        "model.add(MaxPooling2D(pool_size=(2, 2)))\n",
        "model.add(Conv2D(64, (3, 3), padding='same'))\n",
        "model.add(Activation('relu'))\n",
        "model.add(MaxPooling2D(pool_size=(2, 2)))\n",
        "model.add(Flatten())\n",
        "model.add(Dense(64))\n",
        "model.add(Activation('relu'))\n",
        "model.add(Dropout(0.5))\n",
        "model.add(Dense(num_classes))\n",
        "model.add(Activation('softmax'))\n",
        "model.compile(loss='categorical_crossentropy', optimizer=Adam(learning_rate=0.001), metrics=['accuracy'])\n",
        "\n",
        "# Augmentasi data gambar\n",
        "train_datagen = ImageDataGenerator(\n",
        "    rescale=1.0/255,\n",
        "    shear_range=0.2,\n",
        "    zoom_range=0.2,\n",
        "    horizontal_flip=True)\n",
        "\n",
        "test_datagen = ImageDataGenerator(rescale=1.0/255)\n",
        "\n",
        "# Parameter training\n",
        "batch_size = 32\n",
        "\n",
        "# Memuat dataset Anda ke dalam variabel X dan y\n",
        "X = []\n",
        "y = []\n",
        "\n",
        "# Isi X dan y dengan data gambar dan label Anda\n",
        "\n",
        "# Daftar kategori (misalnya: \"paper\", \"rock\", \"scissors\")\n",
        "categories = ['scissors', 'rock', 'paper']\n",
        "\n",
        "# Memuat data gambar dan label dari direktori dataset\n",
        "for category in categories:\n",
        "    category_path = os.path.join(dataset_dir, category)\n",
        "    class_label = categories.index(category)  # Label kelas (misalnya, 0, 1, 2)\n",
        "\n",
        "    for img_file in os.listdir(category_path):\n",
        "        if img_file.endswith(\".jpg\") or img_file.endswith(\".jpeg\") or img_file.endswith(\".png\"):\n",
        "            img_path = os.path.join(category_path, img_file)\n",
        "            img = cv2.imread(img_path)\n",
        "            img = cv2.resize(img, (150, 150))  # Sesuaikan dengan ukuran yang Anda inginkan\n",
        "            X.append(img)\n",
        "            y.append(class_label)\n",
        "\n",
        "# Konversi ke array NumPy\n",
        "X = np.array(X)\n",
        "y = np.array(y)\n",
        "\n",
        "# Mengubah label ke one-hot encoding\n",
        "from tensorflow.keras.utils import to_categorical\n",
        "y = to_categorical(y, num_classes=3)\n",
        "\n",
        "# Bagi dataset menjadi train set dan validation set (40% validation)\n",
        "X_train, X_val, y_train, y_val = train_test_split(X, y, test_size=0.4, random_state=42)\n",
        "train_generator = train_datagen.flow(X_train, y_train, batch_size=batch_size)\n",
        "validation_generator = test_datagen.flow(X_val, y_val, batch_size=batch_size)\n",
        "\n",
        "# Training model (maksimal 30 menit)\n",
        "from tensorflow.keras.callbacks import EarlyStopping, ModelCheckpoint\n",
        "early_stopping = EarlyStopping(monitor='val_accuracy', patience=5, restore_best_weights=True)\n",
        "model_checkpoint = ModelCheckpoint('best_model.h5', save_best_only=True)\n",
        "\n",
        "epochs = 100  # Anda dapat menyesuaikan jumlah epoch sesuai kebutuhan\n",
        "history = model.fit(\n",
        "    train_generator,\n",
        "    steps_per_epoch=len(X_train) // batch_size,\n",
        "    epochs=epochs,\n",
        "    validation_data=validation_generator,\n",
        "    validation_steps=len(X_val) // batch_size,\n",
        "    callbacks=[early_stopping, model_checkpoint])\n",
        "\n",
        "# Memuat model terbaik\n",
        "model.load_weights('best_model.h5')\n",
        "\n",
        "# Widget \"Choose File\" untuk memilih file gambar\n",
        "uploaded = files.upload()\n",
        "\n",
        "if uploaded:\n",
        "    # Pilih file gambar yang diunggah\n",
        "    uploaded_image_path = list(uploaded.keys())[0]\n",
        "\n",
        "    # Memproses gambar yang diunggah\n",
        "    uploaded_image = Image.open(io.BytesIO(uploaded[uploaded_image_path]))\n",
        "    uploaded_image = uploaded_image.resize((150, 150))\n",
        "    uploaded_image = np.array(uploaded_image)\n",
        "    uploaded_image = np.expand_dims(uploaded_image, axis=0)\n",
        "\n",
        "    # Melakukan prediksi pada gambar yang diunggah\n",
        "    prediction = model.predict(uploaded_image)\n",
        "    labels = ['scissors', 'rock', 'paper']\n",
        "    predicted_label = labels[np.argmax(prediction)]\n",
        "\n",
        "    print(\"Hasil prediksi:\", predicted_label)\n",
        "else:\n",
        "    print(\"Belum ada file yang diunggah.\")\n"
      ],
      "metadata": {
        "colab": {
          "base_uri": "https://localhost:8080/",
          "height": 732
        },
        "id": "umyCrrr-axjr",
        "outputId": "ba49fd6e-adb4-417c-9242-f52a336f93bc"
      },
      "execution_count": 62,
      "outputs": [
        {
          "output_type": "stream",
          "name": "stdout",
          "text": [
            "Epoch 1/100\n",
            "41/41 [==============================] - 56s 1s/step - loss: 1.0585 - accuracy: 0.4345 - val_loss: 0.8243 - val_accuracy: 0.7500\n",
            "Epoch 2/100\n",
            "41/41 [==============================] - 56s 1s/step - loss: 0.7417 - accuracy: 0.6921 - val_loss: 0.5211 - val_accuracy: 0.8310\n",
            "Epoch 3/100\n",
            "41/41 [==============================] - 57s 1s/step - loss: 0.5122 - accuracy: 0.7950 - val_loss: 0.3760 - val_accuracy: 0.8380\n",
            "Epoch 4/100\n",
            "41/41 [==============================] - 58s 1s/step - loss: 0.3990 - accuracy: 0.8529 - val_loss: 0.2427 - val_accuracy: 0.9248\n",
            "Epoch 5/100\n",
            "41/41 [==============================] - 58s 1s/step - loss: 0.3768 - accuracy: 0.8514 - val_loss: 0.2215 - val_accuracy: 0.9387\n",
            "Epoch 6/100\n",
            "41/41 [==============================] - 55s 1s/step - loss: 0.3006 - accuracy: 0.8765 - val_loss: 0.1326 - val_accuracy: 0.9595\n",
            "Epoch 7/100\n",
            "41/41 [==============================] - 56s 1s/step - loss: 0.2544 - accuracy: 0.9146 - val_loss: 0.1865 - val_accuracy: 0.9271\n",
            "Epoch 8/100\n",
            "41/41 [==============================] - 58s 1s/step - loss: 0.2662 - accuracy: 0.8902 - val_loss: 0.1054 - val_accuracy: 0.9664\n",
            "Epoch 9/100\n",
            "41/41 [==============================] - 55s 1s/step - loss: 0.2290 - accuracy: 0.9131 - val_loss: 0.0814 - val_accuracy: 0.9711\n",
            "Epoch 10/100\n",
            "41/41 [==============================] - 57s 1s/step - loss: 0.2243 - accuracy: 0.9184 - val_loss: 0.0853 - val_accuracy: 0.9699\n",
            "Epoch 11/100\n",
            "41/41 [==============================] - 59s 1s/step - loss: 0.1871 - accuracy: 0.9345 - val_loss: 0.0761 - val_accuracy: 0.9699\n",
            "Epoch 12/100\n",
            "41/41 [==============================] - 59s 1s/step - loss: 0.1886 - accuracy: 0.9360 - val_loss: 0.1544 - val_accuracy: 0.9398\n",
            "Epoch 13/100\n",
            "41/41 [==============================] - 58s 1s/step - loss: 0.1541 - accuracy: 0.9405 - val_loss: 0.0578 - val_accuracy: 0.9803\n",
            "Epoch 14/100\n",
            "41/41 [==============================] - 56s 1s/step - loss: 0.1410 - accuracy: 0.9482 - val_loss: 0.0773 - val_accuracy: 0.9664\n",
            "Epoch 15/100\n",
            "41/41 [==============================] - 55s 1s/step - loss: 0.1630 - accuracy: 0.9398 - val_loss: 0.1021 - val_accuracy: 0.9606\n",
            "Epoch 16/100\n",
            "41/41 [==============================] - 57s 1s/step - loss: 0.1524 - accuracy: 0.9520 - val_loss: 0.0682 - val_accuracy: 0.9745\n",
            "Epoch 17/100\n",
            "41/41 [==============================] - 58s 1s/step - loss: 0.1399 - accuracy: 0.9512 - val_loss: 0.0601 - val_accuracy: 0.9757\n",
            "Epoch 18/100\n",
            "41/41 [==============================] - 59s 1s/step - loss: 0.1203 - accuracy: 0.9497 - val_loss: 0.0506 - val_accuracy: 0.9769\n"
          ]
        },
        {
          "output_type": "display_data",
          "data": {
            "text/plain": [
              "<IPython.core.display.HTML object>"
            ],
            "text/html": [
              "\n",
              "     <input type=\"file\" id=\"files-97b2a581-66dd-4a29-b53e-5850852f8b42\" name=\"files[]\" multiple disabled\n",
              "        style=\"border:none\" />\n",
              "     <output id=\"result-97b2a581-66dd-4a29-b53e-5850852f8b42\">\n",
              "      Upload widget is only available when the cell has been executed in the\n",
              "      current browser session. Please rerun this cell to enable.\n",
              "      </output>\n",
              "      <script>// Copyright 2017 Google LLC\n",
              "//\n",
              "// Licensed under the Apache License, Version 2.0 (the \"License\");\n",
              "// you may not use this file except in compliance with the License.\n",
              "// You may obtain a copy of the License at\n",
              "//\n",
              "//      http://www.apache.org/licenses/LICENSE-2.0\n",
              "//\n",
              "// Unless required by applicable law or agreed to in writing, software\n",
              "// distributed under the License is distributed on an \"AS IS\" BASIS,\n",
              "// WITHOUT WARRANTIES OR CONDITIONS OF ANY KIND, either express or implied.\n",
              "// See the License for the specific language governing permissions and\n",
              "// limitations under the License.\n",
              "\n",
              "/**\n",
              " * @fileoverview Helpers for google.colab Python module.\n",
              " */\n",
              "(function(scope) {\n",
              "function span(text, styleAttributes = {}) {\n",
              "  const element = document.createElement('span');\n",
              "  element.textContent = text;\n",
              "  for (const key of Object.keys(styleAttributes)) {\n",
              "    element.style[key] = styleAttributes[key];\n",
              "  }\n",
              "  return element;\n",
              "}\n",
              "\n",
              "// Max number of bytes which will be uploaded at a time.\n",
              "const MAX_PAYLOAD_SIZE = 100 * 1024;\n",
              "\n",
              "function _uploadFiles(inputId, outputId) {\n",
              "  const steps = uploadFilesStep(inputId, outputId);\n",
              "  const outputElement = document.getElementById(outputId);\n",
              "  // Cache steps on the outputElement to make it available for the next call\n",
              "  // to uploadFilesContinue from Python.\n",
              "  outputElement.steps = steps;\n",
              "\n",
              "  return _uploadFilesContinue(outputId);\n",
              "}\n",
              "\n",
              "// This is roughly an async generator (not supported in the browser yet),\n",
              "// where there are multiple asynchronous steps and the Python side is going\n",
              "// to poll for completion of each step.\n",
              "// This uses a Promise to block the python side on completion of each step,\n",
              "// then passes the result of the previous step as the input to the next step.\n",
              "function _uploadFilesContinue(outputId) {\n",
              "  const outputElement = document.getElementById(outputId);\n",
              "  const steps = outputElement.steps;\n",
              "\n",
              "  const next = steps.next(outputElement.lastPromiseValue);\n",
              "  return Promise.resolve(next.value.promise).then((value) => {\n",
              "    // Cache the last promise value to make it available to the next\n",
              "    // step of the generator.\n",
              "    outputElement.lastPromiseValue = value;\n",
              "    return next.value.response;\n",
              "  });\n",
              "}\n",
              "\n",
              "/**\n",
              " * Generator function which is called between each async step of the upload\n",
              " * process.\n",
              " * @param {string} inputId Element ID of the input file picker element.\n",
              " * @param {string} outputId Element ID of the output display.\n",
              " * @return {!Iterable<!Object>} Iterable of next steps.\n",
              " */\n",
              "function* uploadFilesStep(inputId, outputId) {\n",
              "  const inputElement = document.getElementById(inputId);\n",
              "  inputElement.disabled = false;\n",
              "\n",
              "  const outputElement = document.getElementById(outputId);\n",
              "  outputElement.innerHTML = '';\n",
              "\n",
              "  const pickedPromise = new Promise((resolve) => {\n",
              "    inputElement.addEventListener('change', (e) => {\n",
              "      resolve(e.target.files);\n",
              "    });\n",
              "  });\n",
              "\n",
              "  const cancel = document.createElement('button');\n",
              "  inputElement.parentElement.appendChild(cancel);\n",
              "  cancel.textContent = 'Cancel upload';\n",
              "  const cancelPromise = new Promise((resolve) => {\n",
              "    cancel.onclick = () => {\n",
              "      resolve(null);\n",
              "    };\n",
              "  });\n",
              "\n",
              "  // Wait for the user to pick the files.\n",
              "  const files = yield {\n",
              "    promise: Promise.race([pickedPromise, cancelPromise]),\n",
              "    response: {\n",
              "      action: 'starting',\n",
              "    }\n",
              "  };\n",
              "\n",
              "  cancel.remove();\n",
              "\n",
              "  // Disable the input element since further picks are not allowed.\n",
              "  inputElement.disabled = true;\n",
              "\n",
              "  if (!files) {\n",
              "    return {\n",
              "      response: {\n",
              "        action: 'complete',\n",
              "      }\n",
              "    };\n",
              "  }\n",
              "\n",
              "  for (const file of files) {\n",
              "    const li = document.createElement('li');\n",
              "    li.append(span(file.name, {fontWeight: 'bold'}));\n",
              "    li.append(span(\n",
              "        `(${file.type || 'n/a'}) - ${file.size} bytes, ` +\n",
              "        `last modified: ${\n",
              "            file.lastModifiedDate ? file.lastModifiedDate.toLocaleDateString() :\n",
              "                                    'n/a'} - `));\n",
              "    const percent = span('0% done');\n",
              "    li.appendChild(percent);\n",
              "\n",
              "    outputElement.appendChild(li);\n",
              "\n",
              "    const fileDataPromise = new Promise((resolve) => {\n",
              "      const reader = new FileReader();\n",
              "      reader.onload = (e) => {\n",
              "        resolve(e.target.result);\n",
              "      };\n",
              "      reader.readAsArrayBuffer(file);\n",
              "    });\n",
              "    // Wait for the data to be ready.\n",
              "    let fileData = yield {\n",
              "      promise: fileDataPromise,\n",
              "      response: {\n",
              "        action: 'continue',\n",
              "      }\n",
              "    };\n",
              "\n",
              "    // Use a chunked sending to avoid message size limits. See b/62115660.\n",
              "    let position = 0;\n",
              "    do {\n",
              "      const length = Math.min(fileData.byteLength - position, MAX_PAYLOAD_SIZE);\n",
              "      const chunk = new Uint8Array(fileData, position, length);\n",
              "      position += length;\n",
              "\n",
              "      const base64 = btoa(String.fromCharCode.apply(null, chunk));\n",
              "      yield {\n",
              "        response: {\n",
              "          action: 'append',\n",
              "          file: file.name,\n",
              "          data: base64,\n",
              "        },\n",
              "      };\n",
              "\n",
              "      let percentDone = fileData.byteLength === 0 ?\n",
              "          100 :\n",
              "          Math.round((position / fileData.byteLength) * 100);\n",
              "      percent.textContent = `${percentDone}% done`;\n",
              "\n",
              "    } while (position < fileData.byteLength);\n",
              "  }\n",
              "\n",
              "  // All done.\n",
              "  yield {\n",
              "    response: {\n",
              "      action: 'complete',\n",
              "    }\n",
              "  };\n",
              "}\n",
              "\n",
              "scope.google = scope.google || {};\n",
              "scope.google.colab = scope.google.colab || {};\n",
              "scope.google.colab._files = {\n",
              "  _uploadFiles,\n",
              "  _uploadFilesContinue,\n",
              "};\n",
              "})(self);\n",
              "</script> "
            ]
          },
          "metadata": {}
        },
        {
          "output_type": "stream",
          "name": "stdout",
          "text": [
            "Saving 0a3UtNzl5Ll3sq8K.png to 0a3UtNzl5Ll3sq8K (1).png\n",
            "1/1 [==============================] - 0s 101ms/step\n",
            "Hasil prediksi: paper\n"
          ]
        }
      ]
    },
    {
      "cell_type": "code",
      "source": [
        "print(len(X))\n",
        "print(len(y))\n"
      ],
      "metadata": {
        "colab": {
          "base_uri": "https://localhost:8080/"
        },
        "id": "sSCcgzkBftLx",
        "outputId": "71e41870-cca7-408b-996c-70253f1844b4"
      },
      "execution_count": 52,
      "outputs": [
        {
          "output_type": "stream",
          "name": "stdout",
          "text": [
            "2188\n",
            "2188\n"
          ]
        }
      ]
    }
  ]
}