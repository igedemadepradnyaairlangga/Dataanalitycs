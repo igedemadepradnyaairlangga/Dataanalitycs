{
  "nbformat": 4,
  "nbformat_minor": 0,
  "metadata": {
    "colab": {
      "name": "UAS.ipynb",
      "provenance": [],
      "collapsed_sections": [],
      "authorship_tag": "ABX9TyMdZUjcfd/lDam6V3O/mL8z",
      "include_colab_link": true
    },
    "kernelspec": {
      "name": "python3",
      "display_name": "Python 3"
    },
    "language_info": {
      "name": "python"
    }
  },
  "cells": [
    {
      "cell_type": "markdown",
      "metadata": {
        "id": "view-in-github",
        "colab_type": "text"
      },
      "source": [
        "<a href=\"https://colab.research.google.com/github/igedemadepradnyaairlangga/Dataanalitycs/blob/master/UAS.ipynb\" target=\"_parent\"><img src=\"https://colab.research.google.com/assets/colab-badge.svg\" alt=\"Open In Colab\"/></a>"
      ]
    },
    {
      "cell_type": "markdown",
      "source": [
        "**Customer Segmentation with k-Means Clustering**"
      ],
      "metadata": {
        "id": "2iWmq5W6FMdT"
      }
    },
    {
      "cell_type": "markdown",
      "source": [
        "Dibuat Oleh : RAMESH MANICKAVEL"
      ],
      "metadata": {
        "id": "FEMvSqa3FgyP"
      }
    },
    {
      "cell_type": "markdown",
      "source": [
        "Data diambil dari data https://www.kaggle.com/code/rameshpriyadarshanmanickavel/customer-segmentation-with-k-means-clustering"
      ],
      "metadata": {
        "id": "sPMwC1qyFrxU"
      }
    },
    {
      "cell_type": "markdown",
      "source": [
        "Nama Saya I Gede Made Pradnya Airlangga \n",
        "Nim : 19101219\n",
        "\n",
        "Disini saya merunning Costomer Segmentation with K-Means Clustering \n",
        "tujuannya untuk memenuhi tugas UAS dari matakuliah Data Analitycs"
      ],
      "metadata": {
        "id": "HvOJjHY3Fznt"
      }
    },
    {
      "cell_type": "code",
      "execution_count": 1,
      "metadata": {
        "colab": {
          "base_uri": "https://localhost:8080/"
        },
        "id": "WEDcZD5A-OE1",
        "outputId": "8e066f4f-5a47-4650-b2f8-b5e81afb311b"
      },
      "outputs": [
        {
          "output_type": "stream",
          "name": "stdout",
          "text": [
            "Mounted at /content/gdrive\n"
          ]
        }
      ],
      "source": [
        "from google.colab import drive\n",
        "drive.mount('/content/gdrive')"
      ]
    },
    {
      "cell_type": "code",
      "source": [
        "import os\n",
        "os.environ['KAGGLE_CONFIG_DIR'] = \"/content/gdrive/My Drive/Kaggle\"\n",
        "# /content/gdrive/My Drive/Kaggle is the path where kaggle.json is present in the Google Drive"
      ],
      "metadata": {
        "id": "fKFrA9WK_Seb"
      },
      "execution_count": 2,
      "outputs": []
    },
    {
      "cell_type": "code",
      "source": [
        "#changing the working directory\n",
        "%cd /content/gdrive/My Drive/Kaggle\n",
        "#Check the present working directory using pwd command"
      ],
      "metadata": {
        "colab": {
          "base_uri": "https://localhost:8080/"
        },
        "id": "5Io9BpOH_U8u",
        "outputId": "95084f94-54fa-4240-b379-fcf297b7d6d3"
      },
      "execution_count": 3,
      "outputs": [
        {
          "output_type": "stream",
          "name": "stdout",
          "text": [
            "/content/gdrive/My Drive/Kaggle\n"
          ]
        }
      ]
    },
    {
      "cell_type": "code",
      "source": [
        "!ls"
      ],
      "metadata": {
        "colab": {
          "base_uri": "https://localhost:8080/"
        },
        "id": "K4BvmsnJ_k40",
        "outputId": "b74e7326-6430-4604-cd5f-b508aab5c227"
      },
      "execution_count": 4,
      "outputs": [
        {
          "output_type": "stream",
          "name": "stdout",
          "text": [
            " amazon_prime_titles.csv\n",
            "'e-shop clothing 2008.csv'\n",
            "'e-shop clothing 2008.csv.zip'\n",
            " kaggle.json\n",
            " Mall_Customers.csv\n",
            "'Salinan amazon_prime_titles.csv'\n",
            " udemy_output_All_Finance__Accounting_p1_p626.csv\n"
          ]
        }
      ]
    },
    {
      "cell_type": "code",
      "source": [
        "pip install xgboost"
      ],
      "metadata": {
        "colab": {
          "base_uri": "https://localhost:8080/"
        },
        "id": "idR-OUkg_yE3",
        "outputId": "9e68c4ce-d097-45ab-f830-1c10a6a6d40c"
      },
      "execution_count": 5,
      "outputs": [
        {
          "output_type": "stream",
          "name": "stdout",
          "text": [
            "Looking in indexes: https://pypi.org/simple, https://us-python.pkg.dev/colab-wheels/public/simple/\n",
            "Requirement already satisfied: xgboost in /usr/local/lib/python3.7/dist-packages (0.90)\n",
            "Requirement already satisfied: scipy in /usr/local/lib/python3.7/dist-packages (from xgboost) (1.4.1)\n",
            "Requirement already satisfied: numpy in /usr/local/lib/python3.7/dist-packages (from xgboost) (1.21.6)\n"
          ]
        }
      ]
    },
    {
      "cell_type": "code",
      "source": [
        "import pandas as pd\n",
        "import seaborn as sn\n",
        "import matplotlib.pyplot as plt\n",
        "import numpy as np\n",
        "import os\n",
        "from sklearn import preprocessing\n",
        "from sklearn.cluster import KMeans\n",
        "from sklearn.metrics import silhouette_samples, silhouette_score\n",
        "from scipy.spatial.distance import cdist"
      ],
      "metadata": {
        "id": "pwPMvOBtBdz1"
      },
      "execution_count": 9,
      "outputs": []
    },
    {
      "cell_type": "code",
      "source": [
        "for dirname, _, filenames in os.walk('/kaggle/input'):\n",
        "    for filename in filenames:\n",
        "        print(os.path.join(dirname, filename))"
      ],
      "metadata": {
        "id": "xNBfMPvXBoya"
      },
      "execution_count": 10,
      "outputs": []
    },
    {
      "cell_type": "code",
      "source": [
        "df = pd.read_csv(r'Mall_Customers.csv')"
      ],
      "metadata": {
        "id": "NkbnCmEBBq2d"
      },
      "execution_count": 11,
      "outputs": []
    },
    {
      "cell_type": "code",
      "source": [
        "# Printing few rows of the data frame\n",
        "df.head()"
      ],
      "metadata": {
        "colab": {
          "base_uri": "https://localhost:8080/",
          "height": 206
        },
        "id": "6ip9YVrICBHF",
        "outputId": "18643e32-1f79-44a3-a174-4e3fedf3ed58"
      },
      "execution_count": 12,
      "outputs": [
        {
          "output_type": "execute_result",
          "data": {
            "text/plain": [
              "   CustomerID  Gender  Age  Annual Income (k$)  Spending Score (1-100)\n",
              "0           1    Male   19                  15                      39\n",
              "1           2    Male   21                  15                      81\n",
              "2           3  Female   20                  16                       6\n",
              "3           4  Female   23                  16                      77\n",
              "4           5  Female   31                  17                      40"
            ],
            "text/html": [
              "\n",
              "  <div id=\"df-d07d13a4-811a-4919-86f9-aa4b1eaa913a\">\n",
              "    <div class=\"colab-df-container\">\n",
              "      <div>\n",
              "<style scoped>\n",
              "    .dataframe tbody tr th:only-of-type {\n",
              "        vertical-align: middle;\n",
              "    }\n",
              "\n",
              "    .dataframe tbody tr th {\n",
              "        vertical-align: top;\n",
              "    }\n",
              "\n",
              "    .dataframe thead th {\n",
              "        text-align: right;\n",
              "    }\n",
              "</style>\n",
              "<table border=\"1\" class=\"dataframe\">\n",
              "  <thead>\n",
              "    <tr style=\"text-align: right;\">\n",
              "      <th></th>\n",
              "      <th>CustomerID</th>\n",
              "      <th>Gender</th>\n",
              "      <th>Age</th>\n",
              "      <th>Annual Income (k$)</th>\n",
              "      <th>Spending Score (1-100)</th>\n",
              "    </tr>\n",
              "  </thead>\n",
              "  <tbody>\n",
              "    <tr>\n",
              "      <th>0</th>\n",
              "      <td>1</td>\n",
              "      <td>Male</td>\n",
              "      <td>19</td>\n",
              "      <td>15</td>\n",
              "      <td>39</td>\n",
              "    </tr>\n",
              "    <tr>\n",
              "      <th>1</th>\n",
              "      <td>2</td>\n",
              "      <td>Male</td>\n",
              "      <td>21</td>\n",
              "      <td>15</td>\n",
              "      <td>81</td>\n",
              "    </tr>\n",
              "    <tr>\n",
              "      <th>2</th>\n",
              "      <td>3</td>\n",
              "      <td>Female</td>\n",
              "      <td>20</td>\n",
              "      <td>16</td>\n",
              "      <td>6</td>\n",
              "    </tr>\n",
              "    <tr>\n",
              "      <th>3</th>\n",
              "      <td>4</td>\n",
              "      <td>Female</td>\n",
              "      <td>23</td>\n",
              "      <td>16</td>\n",
              "      <td>77</td>\n",
              "    </tr>\n",
              "    <tr>\n",
              "      <th>4</th>\n",
              "      <td>5</td>\n",
              "      <td>Female</td>\n",
              "      <td>31</td>\n",
              "      <td>17</td>\n",
              "      <td>40</td>\n",
              "    </tr>\n",
              "  </tbody>\n",
              "</table>\n",
              "</div>\n",
              "      <button class=\"colab-df-convert\" onclick=\"convertToInteractive('df-d07d13a4-811a-4919-86f9-aa4b1eaa913a')\"\n",
              "              title=\"Convert this dataframe to an interactive table.\"\n",
              "              style=\"display:none;\">\n",
              "        \n",
              "  <svg xmlns=\"http://www.w3.org/2000/svg\" height=\"24px\"viewBox=\"0 0 24 24\"\n",
              "       width=\"24px\">\n",
              "    <path d=\"M0 0h24v24H0V0z\" fill=\"none\"/>\n",
              "    <path d=\"M18.56 5.44l.94 2.06.94-2.06 2.06-.94-2.06-.94-.94-2.06-.94 2.06-2.06.94zm-11 1L8.5 8.5l.94-2.06 2.06-.94-2.06-.94L8.5 2.5l-.94 2.06-2.06.94zm10 10l.94 2.06.94-2.06 2.06-.94-2.06-.94-.94-2.06-.94 2.06-2.06.94z\"/><path d=\"M17.41 7.96l-1.37-1.37c-.4-.4-.92-.59-1.43-.59-.52 0-1.04.2-1.43.59L10.3 9.45l-7.72 7.72c-.78.78-.78 2.05 0 2.83L4 21.41c.39.39.9.59 1.41.59.51 0 1.02-.2 1.41-.59l7.78-7.78 2.81-2.81c.8-.78.8-2.07 0-2.86zM5.41 20L4 18.59l7.72-7.72 1.47 1.35L5.41 20z\"/>\n",
              "  </svg>\n",
              "      </button>\n",
              "      \n",
              "  <style>\n",
              "    .colab-df-container {\n",
              "      display:flex;\n",
              "      flex-wrap:wrap;\n",
              "      gap: 12px;\n",
              "    }\n",
              "\n",
              "    .colab-df-convert {\n",
              "      background-color: #E8F0FE;\n",
              "      border: none;\n",
              "      border-radius: 50%;\n",
              "      cursor: pointer;\n",
              "      display: none;\n",
              "      fill: #1967D2;\n",
              "      height: 32px;\n",
              "      padding: 0 0 0 0;\n",
              "      width: 32px;\n",
              "    }\n",
              "\n",
              "    .colab-df-convert:hover {\n",
              "      background-color: #E2EBFA;\n",
              "      box-shadow: 0px 1px 2px rgba(60, 64, 67, 0.3), 0px 1px 3px 1px rgba(60, 64, 67, 0.15);\n",
              "      fill: #174EA6;\n",
              "    }\n",
              "\n",
              "    [theme=dark] .colab-df-convert {\n",
              "      background-color: #3B4455;\n",
              "      fill: #D2E3FC;\n",
              "    }\n",
              "\n",
              "    [theme=dark] .colab-df-convert:hover {\n",
              "      background-color: #434B5C;\n",
              "      box-shadow: 0px 1px 3px 1px rgba(0, 0, 0, 0.15);\n",
              "      filter: drop-shadow(0px 1px 2px rgba(0, 0, 0, 0.3));\n",
              "      fill: #FFFFFF;\n",
              "    }\n",
              "  </style>\n",
              "\n",
              "      <script>\n",
              "        const buttonEl =\n",
              "          document.querySelector('#df-d07d13a4-811a-4919-86f9-aa4b1eaa913a button.colab-df-convert');\n",
              "        buttonEl.style.display =\n",
              "          google.colab.kernel.accessAllowed ? 'block' : 'none';\n",
              "\n",
              "        async function convertToInteractive(key) {\n",
              "          const element = document.querySelector('#df-d07d13a4-811a-4919-86f9-aa4b1eaa913a');\n",
              "          const dataTable =\n",
              "            await google.colab.kernel.invokeFunction('convertToInteractive',\n",
              "                                                     [key], {});\n",
              "          if (!dataTable) return;\n",
              "\n",
              "          const docLinkHtml = 'Like what you see? Visit the ' +\n",
              "            '<a target=\"_blank\" href=https://colab.research.google.com/notebooks/data_table.ipynb>data table notebook</a>'\n",
              "            + ' to learn more about interactive tables.';\n",
              "          element.innerHTML = '';\n",
              "          dataTable['output_type'] = 'display_data';\n",
              "          await google.colab.output.renderOutput(dataTable, element);\n",
              "          const docLink = document.createElement('div');\n",
              "          docLink.innerHTML = docLinkHtml;\n",
              "          element.appendChild(docLink);\n",
              "        }\n",
              "      </script>\n",
              "    </div>\n",
              "  </div>\n",
              "  "
            ]
          },
          "metadata": {},
          "execution_count": 12
        }
      ]
    },
    {
      "cell_type": "code",
      "source": [
        "# Printing the number of rows & number of columns in data frame\n",
        "df.shape"
      ],
      "metadata": {
        "colab": {
          "base_uri": "https://localhost:8080/"
        },
        "id": "byk7bG9JCHUp",
        "outputId": "361cea29-163c-4544-9097-c50fc9abed28"
      },
      "execution_count": 13,
      "outputs": [
        {
          "output_type": "execute_result",
          "data": {
            "text/plain": [
              "(200, 5)"
            ]
          },
          "metadata": {},
          "execution_count": 13
        }
      ]
    },
    {
      "cell_type": "code",
      "source": [
        "# Printing data types of each column\n",
        "datatypes = df.dtypes\n",
        "datatypes"
      ],
      "metadata": {
        "colab": {
          "base_uri": "https://localhost:8080/"
        },
        "id": "fFcfk7ApCUyh",
        "outputId": "03ded228-2a94-4784-f86c-3f165771d828"
      },
      "execution_count": 15,
      "outputs": [
        {
          "output_type": "execute_result",
          "data": {
            "text/plain": [
              "CustomerID                 int64\n",
              "Gender                    object\n",
              "Age                        int64\n",
              "Annual Income (k$)         int64\n",
              "Spending Score (1-100)     int64\n",
              "dtype: object"
            ]
          },
          "metadata": {},
          "execution_count": 15
        }
      ]
    },
    {
      "cell_type": "code",
      "source": [
        "# Printing the information about the data frame \n",
        "df.info()"
      ],
      "metadata": {
        "colab": {
          "base_uri": "https://localhost:8080/"
        },
        "id": "KKGsQFBRCWlz",
        "outputId": "3804f4d3-613a-4595-f755-99f55b04c188"
      },
      "execution_count": 16,
      "outputs": [
        {
          "output_type": "stream",
          "name": "stdout",
          "text": [
            "<class 'pandas.core.frame.DataFrame'>\n",
            "RangeIndex: 200 entries, 0 to 199\n",
            "Data columns (total 5 columns):\n",
            " #   Column                  Non-Null Count  Dtype \n",
            "---  ------                  --------------  ----- \n",
            " 0   CustomerID              200 non-null    int64 \n",
            " 1   Gender                  200 non-null    object\n",
            " 2   Age                     200 non-null    int64 \n",
            " 3   Annual Income (k$)      200 non-null    int64 \n",
            " 4   Spending Score (1-100)  200 non-null    int64 \n",
            "dtypes: int64(4), object(1)\n",
            "memory usage: 7.9+ KB\n"
          ]
        }
      ]
    },
    {
      "cell_type": "code",
      "source": [
        "# Counting total null values in the data frame\n",
        "df.isnull().sum()"
      ],
      "metadata": {
        "colab": {
          "base_uri": "https://localhost:8080/"
        },
        "id": "z12yBtVICdoE",
        "outputId": "27c2b1e8-56e6-4438-fb74-a217c1f9e058"
      },
      "execution_count": 17,
      "outputs": [
        {
          "output_type": "execute_result",
          "data": {
            "text/plain": [
              "CustomerID                0\n",
              "Gender                    0\n",
              "Age                       0\n",
              "Annual Income (k$)        0\n",
              "Spending Score (1-100)    0\n",
              "dtype: int64"
            ]
          },
          "metadata": {},
          "execution_count": 17
        }
      ]
    },
    {
      "cell_type": "code",
      "source": [
        "# Counting null values in the data frame by rows\n",
        "for i in range(len(df.index)) :\n",
        "    print(\" Total NaN in row\", i + 1, \":\",\n",
        "          df.iloc[i].isnull().sum())"
      ],
      "metadata": {
        "colab": {
          "base_uri": "https://localhost:8080/"
        },
        "id": "0SXyY9YXCn6l",
        "outputId": "1be8db53-88c0-4c49-8110-4f19ddcb34d9"
      },
      "execution_count": 18,
      "outputs": [
        {
          "output_type": "stream",
          "name": "stdout",
          "text": [
            " Total NaN in row 1 : 0\n",
            " Total NaN in row 2 : 0\n",
            " Total NaN in row 3 : 0\n",
            " Total NaN in row 4 : 0\n",
            " Total NaN in row 5 : 0\n",
            " Total NaN in row 6 : 0\n",
            " Total NaN in row 7 : 0\n",
            " Total NaN in row 8 : 0\n",
            " Total NaN in row 9 : 0\n",
            " Total NaN in row 10 : 0\n",
            " Total NaN in row 11 : 0\n",
            " Total NaN in row 12 : 0\n",
            " Total NaN in row 13 : 0\n",
            " Total NaN in row 14 : 0\n",
            " Total NaN in row 15 : 0\n",
            " Total NaN in row 16 : 0\n",
            " Total NaN in row 17 : 0\n",
            " Total NaN in row 18 : 0\n",
            " Total NaN in row 19 : 0\n",
            " Total NaN in row 20 : 0\n",
            " Total NaN in row 21 : 0\n",
            " Total NaN in row 22 : 0\n",
            " Total NaN in row 23 : 0\n",
            " Total NaN in row 24 : 0\n",
            " Total NaN in row 25 : 0\n",
            " Total NaN in row 26 : 0\n",
            " Total NaN in row 27 : 0\n",
            " Total NaN in row 28 : 0\n",
            " Total NaN in row 29 : 0\n",
            " Total NaN in row 30 : 0\n",
            " Total NaN in row 31 : 0\n",
            " Total NaN in row 32 : 0\n",
            " Total NaN in row 33 : 0\n",
            " Total NaN in row 34 : 0\n",
            " Total NaN in row 35 : 0\n",
            " Total NaN in row 36 : 0\n",
            " Total NaN in row 37 : 0\n",
            " Total NaN in row 38 : 0\n",
            " Total NaN in row 39 : 0\n",
            " Total NaN in row 40 : 0\n",
            " Total NaN in row 41 : 0\n",
            " Total NaN in row 42 : 0\n",
            " Total NaN in row 43 : 0\n",
            " Total NaN in row 44 : 0\n",
            " Total NaN in row 45 : 0\n",
            " Total NaN in row 46 : 0\n",
            " Total NaN in row 47 : 0\n",
            " Total NaN in row 48 : 0\n",
            " Total NaN in row 49 : 0\n",
            " Total NaN in row 50 : 0\n",
            " Total NaN in row 51 : 0\n",
            " Total NaN in row 52 : 0\n",
            " Total NaN in row 53 : 0\n",
            " Total NaN in row 54 : 0\n",
            " Total NaN in row 55 : 0\n",
            " Total NaN in row 56 : 0\n",
            " Total NaN in row 57 : 0\n",
            " Total NaN in row 58 : 0\n",
            " Total NaN in row 59 : 0\n",
            " Total NaN in row 60 : 0\n",
            " Total NaN in row 61 : 0\n",
            " Total NaN in row 62 : 0\n",
            " Total NaN in row 63 : 0\n",
            " Total NaN in row 64 : 0\n",
            " Total NaN in row 65 : 0\n",
            " Total NaN in row 66 : 0\n",
            " Total NaN in row 67 : 0\n",
            " Total NaN in row 68 : 0\n",
            " Total NaN in row 69 : 0\n",
            " Total NaN in row 70 : 0\n",
            " Total NaN in row 71 : 0\n",
            " Total NaN in row 72 : 0\n",
            " Total NaN in row 73 : 0\n",
            " Total NaN in row 74 : 0\n",
            " Total NaN in row 75 : 0\n",
            " Total NaN in row 76 : 0\n",
            " Total NaN in row 77 : 0\n",
            " Total NaN in row 78 : 0\n",
            " Total NaN in row 79 : 0\n",
            " Total NaN in row 80 : 0\n",
            " Total NaN in row 81 : 0\n",
            " Total NaN in row 82 : 0\n",
            " Total NaN in row 83 : 0\n",
            " Total NaN in row 84 : 0\n",
            " Total NaN in row 85 : 0\n",
            " Total NaN in row 86 : 0\n",
            " Total NaN in row 87 : 0\n",
            " Total NaN in row 88 : 0\n",
            " Total NaN in row 89 : 0\n",
            " Total NaN in row 90 : 0\n",
            " Total NaN in row 91 : 0\n",
            " Total NaN in row 92 : 0\n",
            " Total NaN in row 93 : 0\n",
            " Total NaN in row 94 : 0\n",
            " Total NaN in row 95 : 0\n",
            " Total NaN in row 96 : 0\n",
            " Total NaN in row 97 : 0\n",
            " Total NaN in row 98 : 0\n",
            " Total NaN in row 99 : 0\n",
            " Total NaN in row 100 : 0\n",
            " Total NaN in row 101 : 0\n",
            " Total NaN in row 102 : 0\n",
            " Total NaN in row 103 : 0\n",
            " Total NaN in row 104 : 0\n",
            " Total NaN in row 105 : 0\n",
            " Total NaN in row 106 : 0\n",
            " Total NaN in row 107 : 0\n",
            " Total NaN in row 108 : 0\n",
            " Total NaN in row 109 : 0\n",
            " Total NaN in row 110 : 0\n",
            " Total NaN in row 111 : 0\n",
            " Total NaN in row 112 : 0\n",
            " Total NaN in row 113 : 0\n",
            " Total NaN in row 114 : 0\n",
            " Total NaN in row 115 : 0\n",
            " Total NaN in row 116 : 0\n",
            " Total NaN in row 117 : 0\n",
            " Total NaN in row 118 : 0\n",
            " Total NaN in row 119 : 0\n",
            " Total NaN in row 120 : 0\n",
            " Total NaN in row 121 : 0\n",
            " Total NaN in row 122 : 0\n",
            " Total NaN in row 123 : 0\n",
            " Total NaN in row 124 : 0\n",
            " Total NaN in row 125 : 0\n",
            " Total NaN in row 126 : 0\n",
            " Total NaN in row 127 : 0\n",
            " Total NaN in row 128 : 0\n",
            " Total NaN in row 129 : 0\n",
            " Total NaN in row 130 : 0\n",
            " Total NaN in row 131 : 0\n",
            " Total NaN in row 132 : 0\n",
            " Total NaN in row 133 : 0\n",
            " Total NaN in row 134 : 0\n",
            " Total NaN in row 135 : 0\n",
            " Total NaN in row 136 : 0\n",
            " Total NaN in row 137 : 0\n",
            " Total NaN in row 138 : 0\n",
            " Total NaN in row 139 : 0\n",
            " Total NaN in row 140 : 0\n",
            " Total NaN in row 141 : 0\n",
            " Total NaN in row 142 : 0\n",
            " Total NaN in row 143 : 0\n",
            " Total NaN in row 144 : 0\n",
            " Total NaN in row 145 : 0\n",
            " Total NaN in row 146 : 0\n",
            " Total NaN in row 147 : 0\n",
            " Total NaN in row 148 : 0\n",
            " Total NaN in row 149 : 0\n",
            " Total NaN in row 150 : 0\n",
            " Total NaN in row 151 : 0\n",
            " Total NaN in row 152 : 0\n",
            " Total NaN in row 153 : 0\n",
            " Total NaN in row 154 : 0\n",
            " Total NaN in row 155 : 0\n",
            " Total NaN in row 156 : 0\n",
            " Total NaN in row 157 : 0\n",
            " Total NaN in row 158 : 0\n",
            " Total NaN in row 159 : 0\n",
            " Total NaN in row 160 : 0\n",
            " Total NaN in row 161 : 0\n",
            " Total NaN in row 162 : 0\n",
            " Total NaN in row 163 : 0\n",
            " Total NaN in row 164 : 0\n",
            " Total NaN in row 165 : 0\n",
            " Total NaN in row 166 : 0\n",
            " Total NaN in row 167 : 0\n",
            " Total NaN in row 168 : 0\n",
            " Total NaN in row 169 : 0\n",
            " Total NaN in row 170 : 0\n",
            " Total NaN in row 171 : 0\n",
            " Total NaN in row 172 : 0\n",
            " Total NaN in row 173 : 0\n",
            " Total NaN in row 174 : 0\n",
            " Total NaN in row 175 : 0\n",
            " Total NaN in row 176 : 0\n",
            " Total NaN in row 177 : 0\n",
            " Total NaN in row 178 : 0\n",
            " Total NaN in row 179 : 0\n",
            " Total NaN in row 180 : 0\n",
            " Total NaN in row 181 : 0\n",
            " Total NaN in row 182 : 0\n",
            " Total NaN in row 183 : 0\n",
            " Total NaN in row 184 : 0\n",
            " Total NaN in row 185 : 0\n",
            " Total NaN in row 186 : 0\n",
            " Total NaN in row 187 : 0\n",
            " Total NaN in row 188 : 0\n",
            " Total NaN in row 189 : 0\n",
            " Total NaN in row 190 : 0\n",
            " Total NaN in row 191 : 0\n",
            " Total NaN in row 192 : 0\n",
            " Total NaN in row 193 : 0\n",
            " Total NaN in row 194 : 0\n",
            " Total NaN in row 195 : 0\n",
            " Total NaN in row 196 : 0\n",
            " Total NaN in row 197 : 0\n",
            " Total NaN in row 198 : 0\n",
            " Total NaN in row 199 : 0\n",
            " Total NaN in row 200 : 0\n"
          ]
        }
      ]
    },
    {
      "cell_type": "code",
      "source": [
        "# Simple statistics of the data frame\n",
        "df.describe()"
      ],
      "metadata": {
        "colab": {
          "base_uri": "https://localhost:8080/",
          "height": 300
        },
        "id": "2YCarXE_Cuzj",
        "outputId": "fb022413-5b24-42fb-9f99-0068aadb8fd7"
      },
      "execution_count": 19,
      "outputs": [
        {
          "output_type": "execute_result",
          "data": {
            "text/plain": [
              "       CustomerID         Age  Annual Income (k$)  Spending Score (1-100)\n",
              "count  200.000000  200.000000          200.000000              200.000000\n",
              "mean   100.500000   38.850000           60.560000               50.200000\n",
              "std     57.879185   13.969007           26.264721               25.823522\n",
              "min      1.000000   18.000000           15.000000                1.000000\n",
              "25%     50.750000   28.750000           41.500000               34.750000\n",
              "50%    100.500000   36.000000           61.500000               50.000000\n",
              "75%    150.250000   49.000000           78.000000               73.000000\n",
              "max    200.000000   70.000000          137.000000               99.000000"
            ],
            "text/html": [
              "\n",
              "  <div id=\"df-50265504-e5ef-4c3b-bdbb-2b45423bfae5\">\n",
              "    <div class=\"colab-df-container\">\n",
              "      <div>\n",
              "<style scoped>\n",
              "    .dataframe tbody tr th:only-of-type {\n",
              "        vertical-align: middle;\n",
              "    }\n",
              "\n",
              "    .dataframe tbody tr th {\n",
              "        vertical-align: top;\n",
              "    }\n",
              "\n",
              "    .dataframe thead th {\n",
              "        text-align: right;\n",
              "    }\n",
              "</style>\n",
              "<table border=\"1\" class=\"dataframe\">\n",
              "  <thead>\n",
              "    <tr style=\"text-align: right;\">\n",
              "      <th></th>\n",
              "      <th>CustomerID</th>\n",
              "      <th>Age</th>\n",
              "      <th>Annual Income (k$)</th>\n",
              "      <th>Spending Score (1-100)</th>\n",
              "    </tr>\n",
              "  </thead>\n",
              "  <tbody>\n",
              "    <tr>\n",
              "      <th>count</th>\n",
              "      <td>200.000000</td>\n",
              "      <td>200.000000</td>\n",
              "      <td>200.000000</td>\n",
              "      <td>200.000000</td>\n",
              "    </tr>\n",
              "    <tr>\n",
              "      <th>mean</th>\n",
              "      <td>100.500000</td>\n",
              "      <td>38.850000</td>\n",
              "      <td>60.560000</td>\n",
              "      <td>50.200000</td>\n",
              "    </tr>\n",
              "    <tr>\n",
              "      <th>std</th>\n",
              "      <td>57.879185</td>\n",
              "      <td>13.969007</td>\n",
              "      <td>26.264721</td>\n",
              "      <td>25.823522</td>\n",
              "    </tr>\n",
              "    <tr>\n",
              "      <th>min</th>\n",
              "      <td>1.000000</td>\n",
              "      <td>18.000000</td>\n",
              "      <td>15.000000</td>\n",
              "      <td>1.000000</td>\n",
              "    </tr>\n",
              "    <tr>\n",
              "      <th>25%</th>\n",
              "      <td>50.750000</td>\n",
              "      <td>28.750000</td>\n",
              "      <td>41.500000</td>\n",
              "      <td>34.750000</td>\n",
              "    </tr>\n",
              "    <tr>\n",
              "      <th>50%</th>\n",
              "      <td>100.500000</td>\n",
              "      <td>36.000000</td>\n",
              "      <td>61.500000</td>\n",
              "      <td>50.000000</td>\n",
              "    </tr>\n",
              "    <tr>\n",
              "      <th>75%</th>\n",
              "      <td>150.250000</td>\n",
              "      <td>49.000000</td>\n",
              "      <td>78.000000</td>\n",
              "      <td>73.000000</td>\n",
              "    </tr>\n",
              "    <tr>\n",
              "      <th>max</th>\n",
              "      <td>200.000000</td>\n",
              "      <td>70.000000</td>\n",
              "      <td>137.000000</td>\n",
              "      <td>99.000000</td>\n",
              "    </tr>\n",
              "  </tbody>\n",
              "</table>\n",
              "</div>\n",
              "      <button class=\"colab-df-convert\" onclick=\"convertToInteractive('df-50265504-e5ef-4c3b-bdbb-2b45423bfae5')\"\n",
              "              title=\"Convert this dataframe to an interactive table.\"\n",
              "              style=\"display:none;\">\n",
              "        \n",
              "  <svg xmlns=\"http://www.w3.org/2000/svg\" height=\"24px\"viewBox=\"0 0 24 24\"\n",
              "       width=\"24px\">\n",
              "    <path d=\"M0 0h24v24H0V0z\" fill=\"none\"/>\n",
              "    <path d=\"M18.56 5.44l.94 2.06.94-2.06 2.06-.94-2.06-.94-.94-2.06-.94 2.06-2.06.94zm-11 1L8.5 8.5l.94-2.06 2.06-.94-2.06-.94L8.5 2.5l-.94 2.06-2.06.94zm10 10l.94 2.06.94-2.06 2.06-.94-2.06-.94-.94-2.06-.94 2.06-2.06.94z\"/><path d=\"M17.41 7.96l-1.37-1.37c-.4-.4-.92-.59-1.43-.59-.52 0-1.04.2-1.43.59L10.3 9.45l-7.72 7.72c-.78.78-.78 2.05 0 2.83L4 21.41c.39.39.9.59 1.41.59.51 0 1.02-.2 1.41-.59l7.78-7.78 2.81-2.81c.8-.78.8-2.07 0-2.86zM5.41 20L4 18.59l7.72-7.72 1.47 1.35L5.41 20z\"/>\n",
              "  </svg>\n",
              "      </button>\n",
              "      \n",
              "  <style>\n",
              "    .colab-df-container {\n",
              "      display:flex;\n",
              "      flex-wrap:wrap;\n",
              "      gap: 12px;\n",
              "    }\n",
              "\n",
              "    .colab-df-convert {\n",
              "      background-color: #E8F0FE;\n",
              "      border: none;\n",
              "      border-radius: 50%;\n",
              "      cursor: pointer;\n",
              "      display: none;\n",
              "      fill: #1967D2;\n",
              "      height: 32px;\n",
              "      padding: 0 0 0 0;\n",
              "      width: 32px;\n",
              "    }\n",
              "\n",
              "    .colab-df-convert:hover {\n",
              "      background-color: #E2EBFA;\n",
              "      box-shadow: 0px 1px 2px rgba(60, 64, 67, 0.3), 0px 1px 3px 1px rgba(60, 64, 67, 0.15);\n",
              "      fill: #174EA6;\n",
              "    }\n",
              "\n",
              "    [theme=dark] .colab-df-convert {\n",
              "      background-color: #3B4455;\n",
              "      fill: #D2E3FC;\n",
              "    }\n",
              "\n",
              "    [theme=dark] .colab-df-convert:hover {\n",
              "      background-color: #434B5C;\n",
              "      box-shadow: 0px 1px 3px 1px rgba(0, 0, 0, 0.15);\n",
              "      filter: drop-shadow(0px 1px 2px rgba(0, 0, 0, 0.3));\n",
              "      fill: #FFFFFF;\n",
              "    }\n",
              "  </style>\n",
              "\n",
              "      <script>\n",
              "        const buttonEl =\n",
              "          document.querySelector('#df-50265504-e5ef-4c3b-bdbb-2b45423bfae5 button.colab-df-convert');\n",
              "        buttonEl.style.display =\n",
              "          google.colab.kernel.accessAllowed ? 'block' : 'none';\n",
              "\n",
              "        async function convertToInteractive(key) {\n",
              "          const element = document.querySelector('#df-50265504-e5ef-4c3b-bdbb-2b45423bfae5');\n",
              "          const dataTable =\n",
              "            await google.colab.kernel.invokeFunction('convertToInteractive',\n",
              "                                                     [key], {});\n",
              "          if (!dataTable) return;\n",
              "\n",
              "          const docLinkHtml = 'Like what you see? Visit the ' +\n",
              "            '<a target=\"_blank\" href=https://colab.research.google.com/notebooks/data_table.ipynb>data table notebook</a>'\n",
              "            + ' to learn more about interactive tables.';\n",
              "          element.innerHTML = '';\n",
              "          dataTable['output_type'] = 'display_data';\n",
              "          await google.colab.output.renderOutput(dataTable, element);\n",
              "          const docLink = document.createElement('div');\n",
              "          docLink.innerHTML = docLinkHtml;\n",
              "          element.appendChild(docLink);\n",
              "        }\n",
              "      </script>\n",
              "    </div>\n",
              "  </div>\n",
              "  "
            ]
          },
          "metadata": {},
          "execution_count": 19
        }
      ]
    },
    {
      "cell_type": "code",
      "source": [
        "# Data type conversion (CustomerID is stored as integer, we can convert it into string)\n",
        "df['Gender'] = df['Gender'].astype('str')\n",
        "df['CustomerID'] = df['CustomerID'].astype('str')\n",
        "dtype = df.dtypes\n",
        "dtype"
      ],
      "metadata": {
        "colab": {
          "base_uri": "https://localhost:8080/"
        },
        "id": "E7ppNF1uC5S7",
        "outputId": "5bf24e6e-b7a4-4557-b29d-c3c7ec6d9ae7"
      },
      "execution_count": 20,
      "outputs": [
        {
          "output_type": "execute_result",
          "data": {
            "text/plain": [
              "CustomerID                object\n",
              "Gender                    object\n",
              "Age                        int64\n",
              "Annual Income (k$)         int64\n",
              "Spending Score (1-100)     int64\n",
              "dtype: object"
            ]
          },
          "metadata": {},
          "execution_count": 20
        }
      ]
    },
    {
      "cell_type": "code",
      "source": [
        "df.info()"
      ],
      "metadata": {
        "colab": {
          "base_uri": "https://localhost:8080/"
        },
        "id": "Dvc_43bSC8nR",
        "outputId": "b2f2f67e-d206-46ec-c501-107b7c88df74"
      },
      "execution_count": 21,
      "outputs": [
        {
          "output_type": "stream",
          "name": "stdout",
          "text": [
            "<class 'pandas.core.frame.DataFrame'>\n",
            "RangeIndex: 200 entries, 0 to 199\n",
            "Data columns (total 5 columns):\n",
            " #   Column                  Non-Null Count  Dtype \n",
            "---  ------                  --------------  ----- \n",
            " 0   CustomerID              200 non-null    object\n",
            " 1   Gender                  200 non-null    object\n",
            " 2   Age                     200 non-null    int64 \n",
            " 3   Annual Income (k$)      200 non-null    int64 \n",
            " 4   Spending Score (1-100)  200 non-null    int64 \n",
            "dtypes: int64(3), object(2)\n",
            "memory usage: 7.9+ KB\n"
          ]
        }
      ]
    },
    {
      "cell_type": "code",
      "source": [
        "# Let us understand the distribution of each attributes (age, annual income & spending score)\n",
        "\n",
        "# Distribution of age\n",
        "sn.displot(data=df, x=\"Age\", kind=\"hist\", aspect=1)\n",
        "\n",
        "# Distribution of Annual Income\n",
        "sn.displot(data=df, x=\"Annual Income (k$)\", kind=\"hist\", aspect=1)\n",
        "\n",
        "\n",
        "# Distribution of Spending Score\n",
        "sn.displot(data=df, x=\"Spending Score (1-100)\", kind=\"hist\", aspect=1)\n",
        "\n",
        "# Distribution of Gender\n",
        "sn.displot(data=df, x=\"Gender\", kind=\"hist\", aspect=1)"
      ],
      "metadata": {
        "colab": {
          "base_uri": "https://localhost:8080/",
          "height": 1000
        },
        "id": "rqvRNJfADeOj",
        "outputId": "52cf21d5-513e-4d14-b1ba-4c89ed415b79"
      },
      "execution_count": 22,
      "outputs": [
        {
          "output_type": "execute_result",
          "data": {
            "text/plain": [
              "<seaborn.axisgrid.FacetGrid at 0x7fda73bcf250>"
            ]
          },
          "metadata": {},
          "execution_count": 22
        },
        {
          "output_type": "display_data",
          "data": {
            "text/plain": [
              "<Figure size 360x360 with 1 Axes>"
            ],
            "image/png": "[encoded data removed]"
          },
          "metadata": {
            "needs_background": "light"
          }
        },
        {
          "output_type": "display_data",
          "data": {
            "text/plain": [
              "<Figure size 360x360 with 1 Axes>"
            ],
            "image/png": "[encoded data removed]"
          },
          "metadata": {
            "needs_background": "light"
          }
        },
        {
          "output_type": "display_data",
          "data": {
            "text/plain": [
              "<Figure size 360x360 with 1 Axes>"
            ],
            "image/png": "[encoded data removed]"
          },
          "metadata": {
            "needs_background": "light"
          }
        },
        {
          "output_type": "display_data",
          "data": {
            "text/plain": [
              "<Figure size 360x360 with 1 Axes>"
            ],
            "image/png": "[encoded data removed]"
          },
          "metadata": {
            "needs_background": "light"
          }
        }
      ]
    },
    {
      "cell_type": "code",
      "source": [
        "# Let us understand the distribution of each attributes (age) with another dimension Gender\n",
        "\n",
        "# Distribution of age with column\n",
        "sn.displot(data=df, x=\"Age\", col=\"Gender\", kind=\"hist\", aspect=1)"
      ],
      "metadata": {
        "colab": {
          "base_uri": "https://localhost:8080/",
          "height": 386
        },
        "id": "DnrxpcWKDpk7",
        "outputId": "e891334a-4dd4-47ca-f382-2ed4bf0ef443"
      },
      "execution_count": 23,
      "outputs": [
        {
          "output_type": "execute_result",
          "data": {
            "text/plain": [
              "<seaborn.axisgrid.FacetGrid at 0x7fda73ac6d50>"
            ]
          },
          "metadata": {},
          "execution_count": 23
        },
        {
          "output_type": "display_data",
          "data": {
            "text/plain": [
              "<Figure size 720x360 with 2 Axes>"
            ],
            "image/png": "[encoded data removed]"
          },
          "metadata": {
            "needs_background": "light"
          }
        }
      ]
    },
    {
      "cell_type": "code",
      "source": [
        "# Correlation Analysis\n",
        "# We can exclude CustomerID from the data frame\n",
        "df = df.loc[:, df.columns != 'CustomerID']"
      ],
      "metadata": {
        "id": "jVHtJG9VDxnn"
      },
      "execution_count": 24,
      "outputs": []
    },
    {
      "cell_type": "code",
      "source": [
        "# Checking for correlation\n",
        "\n",
        "# Creating a correlation matrix from the data frame\n",
        "corrMatrix = df.corr()\n",
        "\n",
        "# Plotting using heatmap\n",
        "sn.heatmap(corrMatrix, annot = True, cmap= 'coolwarm')"
      ],
      "metadata": {
        "colab": {
          "base_uri": "https://localhost:8080/",
          "height": 394
        },
        "id": "7UtNvTQsD71c",
        "outputId": "49ba716d-2eaf-468d-e54d-529e8505e057"
      },
      "execution_count": 25,
      "outputs": [
        {
          "output_type": "execute_result",
          "data": {
            "text/plain": [
              "<matplotlib.axes._subplots.AxesSubplot at 0x7fda765332d0>"
            ]
          },
          "metadata": {},
          "execution_count": 25
        },
        {
          "output_type": "display_data",
          "data": {
            "text/plain": [
              "<Figure size 432x288 with 2 Axes>"
            ],
            "image/png": "[encoded data removed]"
          },
          "metadata": {
            "needs_background": "light"
          }
        }
      ]
    },
    {
      "cell_type": "code",
      "source": [
        "# Correlation using kendall method\n",
        "df.corr(method ='kendall')"
      ],
      "metadata": {
        "colab": {
          "base_uri": "https://localhost:8080/",
          "height": 143
        },
        "id": "LNfFnF-OEDQ9",
        "outputId": "b6c55697-0942-47ba-b79a-95bf50e7b7fa"
      },
      "execution_count": 26,
      "outputs": [
        {
          "output_type": "execute_result",
          "data": {
            "text/plain": [
              "                             Age  Annual Income (k$)  Spending Score (1-100)\n",
              "Age                     1.000000            0.008198               -0.210757\n",
              "Annual Income (k$)      0.008198            1.000000               -0.000765\n",
              "Spending Score (1-100) -0.210757           -0.000765                1.000000"
            ],
            "text/html": [
              "\n",
              "  <div id=\"df-f72c82d4-7acc-40ea-a5c5-46a9e7b407b5\">\n",
              "    <div class=\"colab-df-container\">\n",
              "      <div>\n",
              "<style scoped>\n",
              "    .dataframe tbody tr th:only-of-type {\n",
              "        vertical-align: middle;\n",
              "    }\n",
              "\n",
              "    .dataframe tbody tr th {\n",
              "        vertical-align: top;\n",
              "    }\n",
              "\n",
              "    .dataframe thead th {\n",
              "        text-align: right;\n",
              "    }\n",
              "</style>\n",
              "<table border=\"1\" class=\"dataframe\">\n",
              "  <thead>\n",
              "    <tr style=\"text-align: right;\">\n",
              "      <th></th>\n",
              "      <th>Age</th>\n",
              "      <th>Annual Income (k$)</th>\n",
              "      <th>Spending Score (1-100)</th>\n",
              "    </tr>\n",
              "  </thead>\n",
              "  <tbody>\n",
              "    <tr>\n",
              "      <th>Age</th>\n",
              "      <td>1.000000</td>\n",
              "      <td>0.008198</td>\n",
              "      <td>-0.210757</td>\n",
              "    </tr>\n",
              "    <tr>\n",
              "      <th>Annual Income (k$)</th>\n",
              "      <td>0.008198</td>\n",
              "      <td>1.000000</td>\n",
              "      <td>-0.000765</td>\n",
              "    </tr>\n",
              "    <tr>\n",
              "      <th>Spending Score (1-100)</th>\n",
              "      <td>-0.210757</td>\n",
              "      <td>-0.000765</td>\n",
              "      <td>1.000000</td>\n",
              "    </tr>\n",
              "  </tbody>\n",
              "</table>\n",
              "</div>\n",
              "      <button class=\"colab-df-convert\" onclick=\"convertToInteractive('df-f72c82d4-7acc-40ea-a5c5-46a9e7b407b5')\"\n",
              "              title=\"Convert this dataframe to an interactive table.\"\n",
              "              style=\"display:none;\">\n",
              "        \n",
              "  <svg xmlns=\"http://www.w3.org/2000/svg\" height=\"24px\"viewBox=\"0 0 24 24\"\n",
              "       width=\"24px\">\n",
              "    <path d=\"M0 0h24v24H0V0z\" fill=\"none\"/>\n",
              "    <path d=\"M18.56 5.44l.94 2.06.94-2.06 2.06-.94-2.06-.94-.94-2.06-.94 2.06-2.06.94zm-11 1L8.5 8.5l.94-2.06 2.06-.94-2.06-.94L8.5 2.5l-.94 2.06-2.06.94zm10 10l.94 2.06.94-2.06 2.06-.94-2.06-.94-.94-2.06-.94 2.06-2.06.94z\"/><path d=\"M17.41 7.96l-1.37-1.37c-.4-.4-.92-.59-1.43-.59-.52 0-1.04.2-1.43.59L10.3 9.45l-7.72 7.72c-.78.78-.78 2.05 0 2.83L4 21.41c.39.39.9.59 1.41.59.51 0 1.02-.2 1.41-.59l7.78-7.78 2.81-2.81c.8-.78.8-2.07 0-2.86zM5.41 20L4 18.59l7.72-7.72 1.47 1.35L5.41 20z\"/>\n",
              "  </svg>\n",
              "      </button>\n",
              "      \n",
              "  <style>\n",
              "    .colab-df-container {\n",
              "      display:flex;\n",
              "      flex-wrap:wrap;\n",
              "      gap: 12px;\n",
              "    }\n",
              "\n",
              "    .colab-df-convert {\n",
              "      background-color: #E8F0FE;\n",
              "      border: none;\n",
              "      border-radius: 50%;\n",
              "      cursor: pointer;\n",
              "      display: none;\n",
              "      fill: #1967D2;\n",
              "      height: 32px;\n",
              "      padding: 0 0 0 0;\n",
              "      width: 32px;\n",
              "    }\n",
              "\n",
              "    .colab-df-convert:hover {\n",
              "      background-color: #E2EBFA;\n",
              "      box-shadow: 0px 1px 2px rgba(60, 64, 67, 0.3), 0px 1px 3px 1px rgba(60, 64, 67, 0.15);\n",
              "      fill: #174EA6;\n",
              "    }\n",
              "\n",
              "    [theme=dark] .colab-df-convert {\n",
              "      background-color: #3B4455;\n",
              "      fill: #D2E3FC;\n",
              "    }\n",
              "\n",
              "    [theme=dark] .colab-df-convert:hover {\n",
              "      background-color: #434B5C;\n",
              "      box-shadow: 0px 1px 3px 1px rgba(0, 0, 0, 0.15);\n",
              "      filter: drop-shadow(0px 1px 2px rgba(0, 0, 0, 0.3));\n",
              "      fill: #FFFFFF;\n",
              "    }\n",
              "  </style>\n",
              "\n",
              "      <script>\n",
              "        const buttonEl =\n",
              "          document.querySelector('#df-f72c82d4-7acc-40ea-a5c5-46a9e7b407b5 button.colab-df-convert');\n",
              "        buttonEl.style.display =\n",
              "          google.colab.kernel.accessAllowed ? 'block' : 'none';\n",
              "\n",
              "        async function convertToInteractive(key) {\n",
              "          const element = document.querySelector('#df-f72c82d4-7acc-40ea-a5c5-46a9e7b407b5');\n",
              "          const dataTable =\n",
              "            await google.colab.kernel.invokeFunction('convertToInteractive',\n",
              "                                                     [key], {});\n",
              "          if (!dataTable) return;\n",
              "\n",
              "          const docLinkHtml = 'Like what you see? Visit the ' +\n",
              "            '<a target=\"_blank\" href=https://colab.research.google.com/notebooks/data_table.ipynb>data table notebook</a>'\n",
              "            + ' to learn more about interactive tables.';\n",
              "          element.innerHTML = '';\n",
              "          dataTable['output_type'] = 'display_data';\n",
              "          await google.colab.output.renderOutput(dataTable, element);\n",
              "          const docLink = document.createElement('div');\n",
              "          docLink.innerHTML = docLinkHtml;\n",
              "          element.appendChild(docLink);\n",
              "        }\n",
              "      </script>\n",
              "    </div>\n",
              "  </div>\n",
              "  "
            ]
          },
          "metadata": {},
          "execution_count": 26
        }
      ]
    },
    {
      "cell_type": "code",
      "source": [
        "# Scatter plot for two variables\n",
        "# plot of Age & Spending Score\n",
        "df.plot.scatter(x = 'Age', y = 'Spending Score (1-100)', s = 10, c = 'red');\n",
        "\n",
        "# plot of Annual Income & Spending Score\n",
        "df.plot.scatter(x = 'Annual Income (k$)', y = 'Spending Score (1-100)', s = 100, c = 'green');"
      ],
      "metadata": {
        "colab": {
          "base_uri": "https://localhost:8080/",
          "height": 541
        },
        "id": "1PrbsxcrENZB",
        "outputId": "e62d22ad-084b-4f15-dc8b-b990abfa7762"
      },
      "execution_count": 27,
      "outputs": [
        {
          "output_type": "display_data",
          "data": {
            "text/plain": [
              "<Figure size 432x288 with 1 Axes>"
            ],
            "image/png": "[encoded data removed]"
          },
          "metadata": {
            "needs_background": "light"
          }
        },
        {
          "output_type": "display_data",
          "data": {
            "text/plain": [
              "<Figure size 432x288 with 1 Axes>"
            ],
            "image/png": "[encoded data removed]"
          },
          "metadata": {
            "needs_background": "light"
          }
        }
      ]
    },
    {
      "cell_type": "code",
      "source": [
        "# Selecting data frame only with numeric. Hence removing the 'Gender' column from data frame\n",
        "df = df.loc[:, df.columns != 'Gender']"
      ],
      "metadata": {
        "id": "HKpioayeEQU1"
      },
      "execution_count": 28,
      "outputs": []
    },
    {
      "cell_type": "code",
      "source": [
        "# distortions:  the average of the squared distances from the cluster centers of the respective clusters. \n",
        "# Inertia: the sum of squared distances of samples to their closest cluster center.\n",
        "\n",
        "# objective: To find the optimal cluster K\n",
        "\n",
        "distortions = []\n",
        "inertias = []\n",
        "mapping1 = {}\n",
        "mapping2 = {}\n",
        "\n",
        "K = range(1, 10)\n",
        "\n",
        "for k in K:\n",
        "  # Building and fitting the model\n",
        "    kmeanModel = KMeans(n_clusters=k).fit(df)\n",
        "    kmeanModel.fit(df)\n",
        "\n",
        "    distortions.append(sum(np.min(cdist(df, kmeanModel.cluster_centers_, 'euclidean'), axis=1)) / df.shape[0])\n",
        "    inertias.append(kmeanModel.inertia_)\n",
        "\n",
        "    mapping1[k] = sum(np.min(cdist(df, kmeanModel.cluster_centers_, 'euclidean'), axis=1)) /df.shape[0]\n",
        "    mapping2[k] = kmeanModel.inertia_"
      ],
      "metadata": {
        "id": "yKLKWV2xEaoL"
      },
      "execution_count": 29,
      "outputs": []
    },
    {
      "cell_type": "code",
      "source": [
        "# Plotting the distortions to find optimal k\n",
        "\n",
        "plt.plot(K, distortions, 'bx-')\n",
        "plt.xlabel('Values of K')\n",
        "plt.ylabel('Distortion')\n",
        "plt.title('The Elbow Method using Distortion')\n",
        "plt.show()"
      ],
      "metadata": {
        "colab": {
          "base_uri": "https://localhost:8080/",
          "height": 295
        },
        "id": "kA7l-ly9Epsl",
        "outputId": "414c7b7f-1b3a-4767-fd56-f4c0f855bacf"
      },
      "execution_count": 31,
      "outputs": [
        {
          "output_type": "display_data",
          "data": {
            "text/plain": [
              "<Figure size 432x288 with 1 Axes>"
            ],
            "image/png": "[encoded data removed]"
          },
          "metadata": {
            "needs_background": "light"
          }
        }
      ]
    },
    {
      "cell_type": "code",
      "source": [
        "# Below is for identifying optimal k based on silhouette\n",
        "\n",
        "clusters_range = range(2,15)\n",
        "results =[]\n",
        "for c in clusters_range:\n",
        "    clusterer = KMeans(init='k-means++', n_clusters=c,n_init=100, random_state=0)\n",
        "    cluster_lables = clusterer.fit_predict(df)\n",
        "    silhouette_avg = silhouette_score(df, cluster_lables)\n",
        "    results.append([c, silhouette_avg])\n",
        "\n",
        "result = pd.DataFrame(results, columns=[\"n_clusters\", \"silhouette_score\"])\n",
        "pivot_km = pd.pivot_table(result, index=\"n_clusters\", values=\"silhouette_score\")\n",
        "\n",
        "plt.figure()\n",
        "sn.heatmap(pivot_km, annot=True, linewidths=0.5, fmt='.3f', cmap=sn.cm.rocket_r)\n",
        "plt.tight_layout()"
      ],
      "metadata": {
        "colab": {
          "base_uri": "https://localhost:8080/",
          "height": 297
        },
        "id": "KQ3rKpu4E2mR",
        "outputId": "6afb5bae-e301-4211-9877-32910c2c8ba6"
      },
      "execution_count": 32,
      "outputs": [
        {
          "output_type": "display_data",
          "data": {
            "text/plain": [
              "<Figure size 432x288 with 2 Axes>"
            ],
            "image/png": "[encoded data removed]"
          },
          "metadata": {
            "needs_background": "light"
          }
        }
      ]
    },
    {
      "cell_type": "code",
      "source": [
        "# With six clusters, we are segmenting the given data & attributes\n",
        "\n",
        "kmeans_selection = KMeans(init='k-means++', n_clusters=6,n_init=100, random_state=1).fit(df)\n",
        "labels = pd.DataFrame(kmeans_selection.labels_)\n",
        "clustered_data = df.assign(Cluster=labels)\n",
        "\n",
        "grouped_km = clustered_data.groupby(['Cluster']).mean().round(1)\n",
        "\n",
        "# Printingthe clusters\n",
        "grouped_km"
      ],
      "metadata": {
        "colab": {
          "base_uri": "https://localhost:8080/",
          "height": 269
        },
        "id": "AyszWQf9E9E7",
        "outputId": "9c1d0599-08dd-4d4d-e157-8d4600b3b087"
      },
      "execution_count": 33,
      "outputs": [
        {
          "output_type": "execute_result",
          "data": {
            "text/plain": [
              "          Age  Annual Income (k$)  Spending Score (1-100)\n",
              "Cluster                                                  \n",
              "0        27.0                56.7                    49.1\n",
              "1        41.7                88.2                    17.3\n",
              "2        32.7                86.5                    82.1\n",
              "3        56.2                53.4                    49.1\n",
              "4        44.1                25.1                    19.5\n",
              "5        25.3                25.7                    79.4"
            ],
            "text/html": [
              "\n",
              "  <div id=\"df-9a237510-fdbf-4649-b5c0-8b74cad0a29f\">\n",
              "    <div class=\"colab-df-container\">\n",
              "      <div>\n",
              "<style scoped>\n",
              "    .dataframe tbody tr th:only-of-type {\n",
              "        vertical-align: middle;\n",
              "    }\n",
              "\n",
              "    .dataframe tbody tr th {\n",
              "        vertical-align: top;\n",
              "    }\n",
              "\n",
              "    .dataframe thead th {\n",
              "        text-align: right;\n",
              "    }\n",
              "</style>\n",
              "<table border=\"1\" class=\"dataframe\">\n",
              "  <thead>\n",
              "    <tr style=\"text-align: right;\">\n",
              "      <th></th>\n",
              "      <th>Age</th>\n",
              "      <th>Annual Income (k$)</th>\n",
              "      <th>Spending Score (1-100)</th>\n",
              "    </tr>\n",
              "    <tr>\n",
              "      <th>Cluster</th>\n",
              "      <th></th>\n",
              "      <th></th>\n",
              "      <th></th>\n",
              "    </tr>\n",
              "  </thead>\n",
              "  <tbody>\n",
              "    <tr>\n",
              "      <th>0</th>\n",
              "      <td>27.0</td>\n",
              "      <td>56.7</td>\n",
              "      <td>49.1</td>\n",
              "    </tr>\n",
              "    <tr>\n",
              "      <th>1</th>\n",
              "      <td>41.7</td>\n",
              "      <td>88.2</td>\n",
              "      <td>17.3</td>\n",
              "    </tr>\n",
              "    <tr>\n",
              "      <th>2</th>\n",
              "      <td>32.7</td>\n",
              "      <td>86.5</td>\n",
              "      <td>82.1</td>\n",
              "    </tr>\n",
              "    <tr>\n",
              "      <th>3</th>\n",
              "      <td>56.2</td>\n",
              "      <td>53.4</td>\n",
              "      <td>49.1</td>\n",
              "    </tr>\n",
              "    <tr>\n",
              "      <th>4</th>\n",
              "      <td>44.1</td>\n",
              "      <td>25.1</td>\n",
              "      <td>19.5</td>\n",
              "    </tr>\n",
              "    <tr>\n",
              "      <th>5</th>\n",
              "      <td>25.3</td>\n",
              "      <td>25.7</td>\n",
              "      <td>79.4</td>\n",
              "    </tr>\n",
              "  </tbody>\n",
              "</table>\n",
              "</div>\n",
              "      <button class=\"colab-df-convert\" onclick=\"convertToInteractive('df-9a237510-fdbf-4649-b5c0-8b74cad0a29f')\"\n",
              "              title=\"Convert this dataframe to an interactive table.\"\n",
              "              style=\"display:none;\">\n",
              "        \n",
              "  <svg xmlns=\"http://www.w3.org/2000/svg\" height=\"24px\"viewBox=\"0 0 24 24\"\n",
              "       width=\"24px\">\n",
              "    <path d=\"M0 0h24v24H0V0z\" fill=\"none\"/>\n",
              "    <path d=\"M18.56 5.44l.94 2.06.94-2.06 2.06-.94-2.06-.94-.94-2.06-.94 2.06-2.06.94zm-11 1L8.5 8.5l.94-2.06 2.06-.94-2.06-.94L8.5 2.5l-.94 2.06-2.06.94zm10 10l.94 2.06.94-2.06 2.06-.94-2.06-.94-.94-2.06-.94 2.06-2.06.94z\"/><path d=\"M17.41 7.96l-1.37-1.37c-.4-.4-.92-.59-1.43-.59-.52 0-1.04.2-1.43.59L10.3 9.45l-7.72 7.72c-.78.78-.78 2.05 0 2.83L4 21.41c.39.39.9.59 1.41.59.51 0 1.02-.2 1.41-.59l7.78-7.78 2.81-2.81c.8-.78.8-2.07 0-2.86zM5.41 20L4 18.59l7.72-7.72 1.47 1.35L5.41 20z\"/>\n",
              "  </svg>\n",
              "      </button>\n",
              "      \n",
              "  <style>\n",
              "    .colab-df-container {\n",
              "      display:flex;\n",
              "      flex-wrap:wrap;\n",
              "      gap: 12px;\n",
              "    }\n",
              "\n",
              "    .colab-df-convert {\n",
              "      background-color: #E8F0FE;\n",
              "      border: none;\n",
              "      border-radius: 50%;\n",
              "      cursor: pointer;\n",
              "      display: none;\n",
              "      fill: #1967D2;\n",
              "      height: 32px;\n",
              "      padding: 0 0 0 0;\n",
              "      width: 32px;\n",
              "    }\n",
              "\n",
              "    .colab-df-convert:hover {\n",
              "      background-color: #E2EBFA;\n",
              "      box-shadow: 0px 1px 2px rgba(60, 64, 67, 0.3), 0px 1px 3px 1px rgba(60, 64, 67, 0.15);\n",
              "      fill: #174EA6;\n",
              "    }\n",
              "\n",
              "    [theme=dark] .colab-df-convert {\n",
              "      background-color: #3B4455;\n",
              "      fill: #D2E3FC;\n",
              "    }\n",
              "\n",
              "    [theme=dark] .colab-df-convert:hover {\n",
              "      background-color: #434B5C;\n",
              "      box-shadow: 0px 1px 3px 1px rgba(0, 0, 0, 0.15);\n",
              "      filter: drop-shadow(0px 1px 2px rgba(0, 0, 0, 0.3));\n",
              "      fill: #FFFFFF;\n",
              "    }\n",
              "  </style>\n",
              "\n",
              "      <script>\n",
              "        const buttonEl =\n",
              "          document.querySelector('#df-9a237510-fdbf-4649-b5c0-8b74cad0a29f button.colab-df-convert');\n",
              "        buttonEl.style.display =\n",
              "          google.colab.kernel.accessAllowed ? 'block' : 'none';\n",
              "\n",
              "        async function convertToInteractive(key) {\n",
              "          const element = document.querySelector('#df-9a237510-fdbf-4649-b5c0-8b74cad0a29f');\n",
              "          const dataTable =\n",
              "            await google.colab.kernel.invokeFunction('convertToInteractive',\n",
              "                                                     [key], {});\n",
              "          if (!dataTable) return;\n",
              "\n",
              "          const docLinkHtml = 'Like what you see? Visit the ' +\n",
              "            '<a target=\"_blank\" href=https://colab.research.google.com/notebooks/data_table.ipynb>data table notebook</a>'\n",
              "            + ' to learn more about interactive tables.';\n",
              "          element.innerHTML = '';\n",
              "          dataTable['output_type'] = 'display_data';\n",
              "          await google.colab.output.renderOutput(dataTable, element);\n",
              "          const docLink = document.createElement('div');\n",
              "          docLink.innerHTML = docLinkHtml;\n",
              "          element.appendChild(docLink);\n",
              "        }\n",
              "      </script>\n",
              "    </div>\n",
              "  </div>\n",
              "  "
            ]
          },
          "metadata": {},
          "execution_count": 33
        }
      ]
    }
  ]
}